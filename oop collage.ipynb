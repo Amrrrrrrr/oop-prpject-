{
 "cells": [
  {
   "cell_type": "code",
   "execution_count": 184,
   "id": "bc1ef512",
   "metadata": {
    "ExecuteTime": {
     "end_time": "2024-02-12T14:56:23.345614Z",
     "start_time": "2024-02-12T14:56:23.328877Z"
    }
   },
   "outputs": [],
   "source": [
    "# oop collage proj\n",
    "class person :\n",
    "    def __init__(self,name,gender,age,iid):\n",
    "        self.name=name\n",
    "        self.age=age\n",
    "        self.gender=gender\n",
    "        self.iid=iid\n",
    "    def displayinfo(self):\n",
    "        print(f\" Name: {self.name}   age:{self.age}  Gender: {self.gender}  id:{self.iid}\")"
   ]
  },
  {
   "cell_type": "code",
   "execution_count": 185,
   "id": "f61114b3",
   "metadata": {
    "ExecuteTime": {
     "end_time": "2024-02-12T14:56:26.014322Z",
     "start_time": "2024-02-12T14:56:25.998809Z"
    }
   },
   "outputs": [],
   "source": [
    "class course :\n",
    "    def __init__(self,name,specialization,credithour):\n",
    "        self.name=name\n",
    "        self.specialization=specialization\n",
    "        self.credithour=credithour\n",
    "    def displayinfo(self):\n",
    "        print(f\" course Name: {self.name} specialization:{self.specialization}  credit hour: {self.credithour}\")\n",
    "        "
   ]
  },
  {
   "cell_type": "code",
   "execution_count": 186,
   "id": "5e8dc9b0",
   "metadata": {
    "ExecuteTime": {
     "end_time": "2024-02-12T14:56:39.421860Z",
     "start_time": "2024-02-12T14:56:39.401493Z"
    }
   },
   "outputs": [],
   "source": [
    "class student (person):\n",
    "    def __init__(self,name,gender,age,iid,specialization,gpa,passedhours):\n",
    "        super().__init__(name,age,gender,iid)\n",
    "        self.gpa=gpa\n",
    "        self.specialization=specialization\n",
    "        self.passedhours=passedhours\n",
    "        self.course=[]\n",
    "    def displayinfo(self):\n",
    "        super().displayinfo()\n",
    "        print(f\"speciallization:{self.specialization}  gpa: {self.gpa}   passed hours : {self.passedhours}\")\n",
    "       \n",
    "            \n",
    "        \n",
    "              \n",
    "            "
   ]
  },
  {
   "cell_type": "code",
   "execution_count": 187,
   "id": "afa7a96e",
   "metadata": {
    "ExecuteTime": {
     "end_time": "2024-02-12T14:56:42.587313Z",
     "start_time": "2024-02-12T14:56:42.570785Z"
    }
   },
   "outputs": [],
   "source": [
    "class Doctor(person):\n",
    "    def __init__(self, name, gender, age, iid,salary):\n",
    "        super().__init__(name, age, gender, iid)\n",
    "        self.salary =salary\n",
    "        self.courses = []\n",
    "\n",
    "    def displayinfo(self):\n",
    "        super().displayinfo()\n",
    "        print(f\"Salary is: {self.salary}\")\n",
    "        print(\"Courses are:\")\n",
    "        for course in self.courses:\n",
    "            print(course.name)\n",
    "\n",
    "    def add_course(self, course):\n",
    "        self.courses.append(course)\n",
    "        print(f\"Course '{course.name}' assigned to Doctor: {self.name}\")\n",
    "    def add_assistant(self, assistant):\n",
    "        self.assistants.append(assistant)\n",
    "        print(f\"Doctor {assistant.name}  assigned to doctor\")\n",
    "\n",
    "    \n",
    "    "
   ]
  },
  {
   "cell_type": "code",
   "execution_count": 197,
   "id": "0a93b93c",
   "metadata": {
    "ExecuteTime": {
     "end_time": "2024-02-12T15:06:22.144306Z",
     "start_time": "2024-02-12T15:06:22.124895Z"
    }
   },
   "outputs": [],
   "source": [
    "class Assistant (person):\n",
    "    def __init__(self,name,age,gender,iid,salary):\n",
    "        super().__init__(name,gender,age,iid)\n",
    "        self.salary=salary\n",
    "        self.courses=[]\n",
    "    def add_course(self,course):\n",
    "        self.courses.append(course)\n",
    "        print(f\"Course '{course.name}' assigned to assistant: {self.name}\")\n",
    "    def displayinfo(self):\n",
    "        super().displayinfo()\n",
    "        print(f\"Salary is: {self.salary}\")\n",
    "        for course in self.courses:\n",
    "            print(course.name)\n",
    "        \n",
    "        \n",
    "        "
   ]
  },
  {
   "cell_type": "code",
   "execution_count": 193,
   "id": "57bdae76",
   "metadata": {
    "ExecuteTime": {
     "end_time": "2024-02-12T15:02:35.008381Z",
     "start_time": "2024-02-12T15:02:34.978422Z"
    }
   },
   "outputs": [],
   "source": [
    "class collage:\n",
    "    def __init__(self, name, location, study_period, university):\n",
    "        self.name = name\n",
    "        self.location = location\n",
    "        self.study_period = study_period\n",
    "        self.university = university\n",
    "        self.doctors = []\n",
    "        self.assistants=[]\n",
    "\n",
    "    def add_doctor(self, doctor):\n",
    "        self.doctors.append(doctor)\n",
    "        print(f\"Doctor {doctor.name} is assigned to collage\")\n",
    "    def add_assistant(self, assistant):\n",
    "        self.assistants.append(assistant)\n",
    "        print(f\"assitant {assistant.name} is assigned to collage\")\n",
    "\n",
    "    def display_info(self):\n",
    "        print(f\"University: {self.university}, Name of collage: {self.name}, Location: {self.location}\")\n",
    "        print(\"Doctors:\")\n",
    "        for doctor in self.doctors:\n",
    "            print(doctor.name)\n",
    "        print(\"assistants:\")\n",
    "        for assistant in self.assistants:\n",
    "            print(assistant.name)"
   ]
  },
  {
   "cell_type": "code",
   "execution_count": 198,
   "id": "e924aecc",
   "metadata": {
    "ExecuteTime": {
     "end_time": "2024-02-12T15:06:28.027783Z",
     "start_time": "2024-02-12T15:06:27.985142Z"
    }
   },
   "outputs": [
    {
     "name": "stdout",
     "output_type": "stream",
     "text": [
      " course Name: os specialization:cs  credit hour: 4\n",
      " course Name: it specialization:nt  credit hour: 3\n",
      " Name: ahmed   age:20  Gender: Male  id:12345\n",
      "speciallization:CS  gpa: 3.5   passed hours : 55\n",
      " Name: Alice   age:22  Gender: Female  id:54321\n",
      "speciallization:Engineering  gpa: 3.8   passed hours : 66\n",
      "Doctor emad is assigned to collage\n",
      "Doctor ahmed is assigned to collage\n",
      "Doctor sara is assigned to collage\n",
      "assitant noha is assigned to collage\n",
      "assitant amr is assigned to collage\n",
      "assitant mariam is assigned to collage\n",
      "University: o6u, Name of collage: cs , Location: giza\n",
      "Doctors:\n",
      "emad\n",
      "ahmed\n",
      "sara\n",
      "assistants:\n",
      "noha\n",
      "amr\n",
      "mariam\n",
      "Course 'os' assigned to assistant: noha\n",
      "Course 'it' assigned to assistant: amr\n",
      "Course 'sys analysis' assigned to assistant: mariam\n",
      "Course 'os' assigned to Doctor: emad\n",
      "Course 'it' assigned to Doctor: ahmed\n",
      "Course 'sys analysis' assigned to Doctor: sara\n",
      " Name: emad   age:55  Gender: male  id:201\n",
      "Salary is: 4000\n",
      "Courses are:\n",
      "os\n",
      " Name: ahmed   age:545  Gender: male  id:209\n",
      "Salary is: 8000\n",
      "Courses are:\n",
      "it\n",
      " Name: sara   age:33  Gender: female  id:100\n",
      "Salary is: 9000\n",
      "Courses are:\n",
      "sys analysis\n",
      "Course 'os' assigned to assistant: noha\n",
      "Course 'it' assigned to assistant: amr\n",
      "Course 'sys analysis' assigned to assistant: mariam\n",
      " Name: noha   age:25  Gender: female  id:1000\n",
      "Salary is: 2000\n",
      "os\n",
      "os\n"
     ]
    }
   ],
   "source": [
    "student1 =student(\"ahmed\", 20, \"Male\", 12345, \"CS\", 3.5, 55)\n",
    "student2 =student(\"Alice\", 22, \"Female\", 54321, \"Engineering\", 3.8, 66)\n",
    "uni = \"o6u\"\n",
    "my_college =collage(\"cs \", \"giza\", \"80 hour\", uni)\n",
    "doctor1=Doctor(\"emad\",55,\"male\",201,4000)\n",
    "doctor2=Doctor(\"ahmed\",545,\"male\",209,8000)\n",
    "doctor3=Doctor(\"sara\",33,\"female\",100,9000)\n",
    "course1=course(\"os\", \"cs\",4)\n",
    "course2=course(\"it\",\"nt\",3)\n",
    "course3=course(\"sys analysis\",\"is\",3)\n",
    "assistant1=Assistant(\"noha\",25,\"female\",1000,2000)\n",
    "assistant2=Assistant(\"amr\",29,\"male\",1200,3000)\n",
    "assistant3=Assistant(\"mariam\",22,\"female\",1010,1500)\n",
    "\n",
    "\n",
    "course1.displayinfo()\n",
    "course2.displayinfo()\n",
    "student1.displayinfo()\n",
    "student2.displayinfo()\n",
    "\n",
    "\n",
    "my_college.add_doctor(doctor1)\n",
    "my_college.add_doctor(doctor2)\n",
    "my_college.add_doctor(doctor3)\n",
    "my_college.add_assistant(assistant1)\n",
    "my_college.add_assistant(assistant2)\n",
    "my_college.add_assistant(assistant3)\n",
    "my_college.display_info()\n",
    "\n",
    "\n",
    "assistant1.add_course(course1)\n",
    "assistant2.add_course(course2)\n",
    "assistant3.add_course(course3)\n",
    "\n",
    "doctor1.add_course(course1)\n",
    "doctor2.add_course(course2)\n",
    "doctor3.add_course(course3)\n",
    "\n",
    "doctor1.displayinfo()\n",
    "doctor2.displayinfo()\n",
    "doctor3.displayinfo()\n",
    "\n",
    "assistant1.add_course(course1)\n",
    "assistant2.add_course(course2)\n",
    "assistant3.add_course(course3)\n",
    "\n",
    "assistant1.displayinfo()\n",
    "\n",
    "\n",
    "\n",
    "\n",
    "\n"
   ]
  },
  {
   "cell_type": "code",
   "execution_count": null,
   "id": "0f6540b9",
   "metadata": {
    "ExecuteTime": {
     "end_time": "2024-02-12T14:33:46.303882Z",
     "start_time": "2024-02-12T14:33:46.221529Z"
    }
   },
   "outputs": [],
   "source": []
  },
  {
   "cell_type": "code",
   "execution_count": null,
   "id": "5cecb238",
   "metadata": {},
   "outputs": [],
   "source": []
  },
  {
   "cell_type": "code",
   "execution_count": null,
   "id": "565f5db9",
   "metadata": {},
   "outputs": [],
   "source": []
  }
 ],
 "metadata": {
  "kernelspec": {
   "display_name": "Python 3 (ipykernel)",
   "language": "python",
   "name": "python3"
  },
  "language_info": {
   "codemirror_mode": {
    "name": "ipython",
    "version": 3
   },
   "file_extension": ".py",
   "mimetype": "text/x-python",
   "name": "python",
   "nbconvert_exporter": "python",
   "pygments_lexer": "ipython3",
   "version": "3.11.5"
  },
  "nbTranslate": {
   "displayLangs": [
    "*"
   ],
   "hotkey": "alt-t",
   "langInMainMenu": true,
   "sourceLang": "en",
   "targetLang": "fr",
   "useGoogleTranslate": true
  },
  "toc": {
   "base_numbering": 1,
   "nav_menu": {},
   "number_sections": true,
   "sideBar": true,
   "skip_h1_title": false,
   "title_cell": "Table of Contents",
   "title_sidebar": "Contents",
   "toc_cell": false,
   "toc_position": {},
   "toc_section_display": true,
   "toc_window_display": false
  },
  "varInspector": {
   "cols": {
    "lenName": 16,
    "lenType": 16,
    "lenVar": 40
   },
   "kernels_config": {
    "python": {
     "delete_cmd_postfix": "",
     "delete_cmd_prefix": "del ",
     "library": "var_list.py",
     "varRefreshCmd": "print(var_dic_list())"
    },
    "r": {
     "delete_cmd_postfix": ") ",
     "delete_cmd_prefix": "rm(",
     "library": "var_list.r",
     "varRefreshCmd": "cat(var_dic_list()) "
    }
   },
   "types_to_exclude": [
    "module",
    "function",
    "builtin_function_or_method",
    "instance",
    "_Feature"
   ],
   "window_display": false
  }
 },
 "nbformat": 4,
 "nbformat_minor": 5
}
